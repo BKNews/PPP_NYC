{
 "cells": [
  {
   "cell_type": "code",
   "execution_count": 1,
   "metadata": {},
   "outputs": [
    {
     "name": "stderr",
     "output_type": "stream",
     "text": [
      "/Users/lisakim/.pyenv/versions/3.8.2/lib/python3.8/site-packages/pandas/compat/__init__.py:120: UserWarning: Could not import the lzma module. Your installed Python is incomplete. Attempting to use lzma compression will result in a RuntimeError.\n",
      "  warnings.warn(msg)\n"
     ]
    }
   ],
   "source": [
    "import pandas as pd\n",
    "import numpy as np\n",
    "\n",
    "pd.set_option(\"display.max_columns\", 200)\n",
    "pd.set_option(\"display.max_colwidth\", 200)"
   ]
  },
  {
   "cell_type": "markdown",
   "metadata": {},
   "source": [
    "## CSV file containing PPP Data up to $150K borrowed in New York State"
   ]
  },
  {
   "cell_type": "code",
   "execution_count": 3,
   "metadata": {},
   "outputs": [],
   "source": [
    "df = pd.read_csv(\"PPP Data up to 150k 080820 NY.csv\")"
   ]
  },
  {
   "cell_type": "code",
   "execution_count": 4,
   "metadata": {},
   "outputs": [
    {
     "data": {
      "text/html": [
       "<div>\n",
       "<style scoped>\n",
       "    .dataframe tbody tr th:only-of-type {\n",
       "        vertical-align: middle;\n",
       "    }\n",
       "\n",
       "    .dataframe tbody tr th {\n",
       "        vertical-align: top;\n",
       "    }\n",
       "\n",
       "    .dataframe thead th {\n",
       "        text-align: right;\n",
       "    }\n",
       "</style>\n",
       "<table border=\"1\" class=\"dataframe\">\n",
       "  <thead>\n",
       "    <tr style=\"text-align: right;\">\n",
       "      <th></th>\n",
       "      <th>LoanAmount</th>\n",
       "      <th>City</th>\n",
       "      <th>State</th>\n",
       "      <th>Zip</th>\n",
       "      <th>NAICSCode</th>\n",
       "      <th>BusinessType</th>\n",
       "      <th>RaceEthnicity</th>\n",
       "      <th>Gender</th>\n",
       "      <th>Veteran</th>\n",
       "      <th>NonProfit</th>\n",
       "      <th>JobsReported</th>\n",
       "      <th>DateApproved</th>\n",
       "      <th>Lender</th>\n",
       "      <th>CD</th>\n",
       "    </tr>\n",
       "  </thead>\n",
       "  <tbody>\n",
       "    <tr>\n",
       "      <th>0</th>\n",
       "      <td>149990.0</td>\n",
       "      <td>STATEN ISLAND</td>\n",
       "      <td>NY</td>\n",
       "      <td>10309.0</td>\n",
       "      <td>238340.0</td>\n",
       "      <td>Subchapter S Corporation</td>\n",
       "      <td>Unanswered</td>\n",
       "      <td>Unanswered</td>\n",
       "      <td>Unanswered</td>\n",
       "      <td>NaN</td>\n",
       "      <td>8.0</td>\n",
       "      <td>05/01/2020</td>\n",
       "      <td>JPMorgan Chase Bank, National Association</td>\n",
       "      <td>NY-11</td>\n",
       "    </tr>\n",
       "    <tr>\n",
       "      <th>1</th>\n",
       "      <td>149990.0</td>\n",
       "      <td>WHITESTONE</td>\n",
       "      <td>NY</td>\n",
       "      <td>11357.0</td>\n",
       "      <td>621210.0</td>\n",
       "      <td>Corporation</td>\n",
       "      <td>Unanswered</td>\n",
       "      <td>Male Owned</td>\n",
       "      <td>Non-Veteran</td>\n",
       "      <td>NaN</td>\n",
       "      <td>16.0</td>\n",
       "      <td>04/29/2020</td>\n",
       "      <td>JPMorgan Chase Bank, National Association</td>\n",
       "      <td>NY-03</td>\n",
       "    </tr>\n",
       "    <tr>\n",
       "      <th>2</th>\n",
       "      <td>149987.0</td>\n",
       "      <td>BROOKLYN</td>\n",
       "      <td>NY</td>\n",
       "      <td>11205.0</td>\n",
       "      <td>484110.0</td>\n",
       "      <td>Corporation</td>\n",
       "      <td>Asian</td>\n",
       "      <td>Male Owned</td>\n",
       "      <td>Non-Veteran</td>\n",
       "      <td>NaN</td>\n",
       "      <td>13.0</td>\n",
       "      <td>04/28/2020</td>\n",
       "      <td>East West Bank</td>\n",
       "      <td>NY-08</td>\n",
       "    </tr>\n",
       "    <tr>\n",
       "      <th>3</th>\n",
       "      <td>149982.0</td>\n",
       "      <td>ISLIP TERRACE</td>\n",
       "      <td>NY</td>\n",
       "      <td>11752.0</td>\n",
       "      <td>236115.0</td>\n",
       "      <td>Subchapter S Corporation</td>\n",
       "      <td>Unanswered</td>\n",
       "      <td>Unanswered</td>\n",
       "      <td>Unanswered</td>\n",
       "      <td>NaN</td>\n",
       "      <td>8.0</td>\n",
       "      <td>05/01/2020</td>\n",
       "      <td>JPMorgan Chase Bank, National Association</td>\n",
       "      <td>NY-02</td>\n",
       "    </tr>\n",
       "    <tr>\n",
       "      <th>4</th>\n",
       "      <td>149979.0</td>\n",
       "      <td>NEW YORK</td>\n",
       "      <td>NY</td>\n",
       "      <td>10005.0</td>\n",
       "      <td>541840.0</td>\n",
       "      <td>Subchapter S Corporation</td>\n",
       "      <td>Unanswered</td>\n",
       "      <td>Unanswered</td>\n",
       "      <td>Unanswered</td>\n",
       "      <td>NaN</td>\n",
       "      <td>11.0</td>\n",
       "      <td>05/01/2020</td>\n",
       "      <td>Haddon Savings Bank</td>\n",
       "      <td>NY-10</td>\n",
       "    </tr>\n",
       "  </tbody>\n",
       "</table>\n",
       "</div>"
      ],
      "text/plain": [
       "   LoanAmount           City State      Zip  NAICSCode  \\\n",
       "0    149990.0  STATEN ISLAND    NY  10309.0   238340.0   \n",
       "1    149990.0     WHITESTONE    NY  11357.0   621210.0   \n",
       "2    149987.0       BROOKLYN    NY  11205.0   484110.0   \n",
       "3    149982.0  ISLIP TERRACE    NY  11752.0   236115.0   \n",
       "4    149979.0       NEW YORK    NY  10005.0   541840.0   \n",
       "\n",
       "               BusinessType RaceEthnicity      Gender      Veteran NonProfit  \\\n",
       "0  Subchapter S Corporation    Unanswered  Unanswered   Unanswered       NaN   \n",
       "1               Corporation    Unanswered  Male Owned  Non-Veteran       NaN   \n",
       "2               Corporation         Asian  Male Owned  Non-Veteran       NaN   \n",
       "3  Subchapter S Corporation    Unanswered  Unanswered   Unanswered       NaN   \n",
       "4  Subchapter S Corporation    Unanswered  Unanswered   Unanswered       NaN   \n",
       "\n",
       "   JobsReported DateApproved                                     Lender     CD  \n",
       "0           8.0   05/01/2020  JPMorgan Chase Bank, National Association  NY-11  \n",
       "1          16.0   04/29/2020  JPMorgan Chase Bank, National Association  NY-03  \n",
       "2          13.0   04/28/2020                             East West Bank  NY-08  \n",
       "3           8.0   05/01/2020  JPMorgan Chase Bank, National Association  NY-02  \n",
       "4          11.0   05/01/2020                        Haddon Savings Bank  NY-10  "
      ]
     },
     "execution_count": 4,
     "metadata": {},
     "output_type": "execute_result"
    }
   ],
   "source": [
    "df.head()"
   ]
  },
  {
   "cell_type": "code",
   "execution_count": 5,
   "metadata": {},
   "outputs": [
    {
     "data": {
      "text/plain": [
       "(301795, 14)"
      ]
     },
     "execution_count": 5,
     "metadata": {},
     "output_type": "execute_result"
    }
   ],
   "source": [
    "df.shape"
   ]
  },
  {
   "cell_type": "code",
   "execution_count": 6,
   "metadata": {},
   "outputs": [
    {
     "data": {
      "text/plain": [
       "LoanAmount       float64\n",
       "City              object\n",
       "State             object\n",
       "Zip              float64\n",
       "NAICSCode        float64\n",
       "BusinessType      object\n",
       "RaceEthnicity     object\n",
       "Gender            object\n",
       "Veteran           object\n",
       "NonProfit         object\n",
       "JobsReported     float64\n",
       "DateApproved      object\n",
       "Lender            object\n",
       "CD                object\n",
       "dtype: object"
      ]
     },
     "execution_count": 6,
     "metadata": {},
     "output_type": "execute_result"
    }
   ],
   "source": [
    "df.dtypes"
   ]
  },
  {
   "cell_type": "code",
   "execution_count": null,
   "metadata": {},
   "outputs": [],
   "source": []
  },
  {
   "cell_type": "markdown",
   "metadata": {},
   "source": [
    "## CSV file containing data on $150K plus loans approved"
   ]
  },
  {
   "cell_type": "code",
   "execution_count": 7,
   "metadata": {},
   "outputs": [],
   "source": [
    "df2 = pd.read_csv(\"PPP Data 150k plus 080820.csv\")\n",
    "df2.head(2)"
   ]
  },
  {
   "cell_type": "code",
   "execution_count": 8,
   "metadata": {},
   "outputs": [
    {
     "data": {
      "text/plain": [
       "(662515, 16)"
      ]
     },
     "execution_count": 8,
     "metadata": {},
     "output_type": "execute_result"
    }
   ],
   "source": [
    "df2.shape"
   ]
  },
  {
   "cell_type": "code",
   "execution_count": null,
   "metadata": {},
   "outputs": [],
   "source": []
  },
  {
   "cell_type": "markdown",
   "metadata": {},
   "source": [
    "### Narrowing down data to New York State"
   ]
  },
  {
   "cell_type": "code",
   "execution_count": 9,
   "metadata": {},
   "outputs": [
    {
     "data": {
      "text/html": [
       "<div>\n",
       "<style scoped>\n",
       "    .dataframe tbody tr th:only-of-type {\n",
       "        vertical-align: middle;\n",
       "    }\n",
       "\n",
       "    .dataframe tbody tr th {\n",
       "        vertical-align: top;\n",
       "    }\n",
       "\n",
       "    .dataframe thead th {\n",
       "        text-align: right;\n",
       "    }\n",
       "</style>\n",
       "<table border=\"1\" class=\"dataframe\">\n",
       "  <thead>\n",
       "    <tr style=\"text-align: right;\">\n",
       "      <th></th>\n",
       "      <th>LoanRange</th>\n",
       "      <th>BusinessName</th>\n",
       "      <th>Address</th>\n",
       "      <th>City</th>\n",
       "      <th>State</th>\n",
       "      <th>Zip</th>\n",
       "      <th>NAICSCode</th>\n",
       "      <th>BusinessType</th>\n",
       "      <th>RaceEthnicity</th>\n",
       "      <th>Gender</th>\n",
       "      <th>Veteran</th>\n",
       "      <th>NonProfit</th>\n",
       "      <th>JobsReported</th>\n",
       "      <th>DateApproved</th>\n",
       "      <th>Lender</th>\n",
       "      <th>CD</th>\n",
       "    </tr>\n",
       "  </thead>\n",
       "  <tbody>\n",
       "    <tr>\n",
       "      <th>416141</th>\n",
       "      <td>a $5-10 million</td>\n",
       "      <td>1186 BROADWAY RESTAURANT LLC</td>\n",
       "      <td>30 W 26th Street Floor 12</td>\n",
       "      <td>NEW YORK</td>\n",
       "      <td>NY</td>\n",
       "      <td>10010.0</td>\n",
       "      <td>721110.0</td>\n",
       "      <td>Limited  Liability Company(LLC)</td>\n",
       "      <td>Unanswered</td>\n",
       "      <td>Unanswered</td>\n",
       "      <td>Unanswered</td>\n",
       "      <td>NaN</td>\n",
       "      <td>417.0</td>\n",
       "      <td>04/15/2020</td>\n",
       "      <td>BMO Harris Bank National Association</td>\n",
       "      <td>NY-12</td>\n",
       "    </tr>\n",
       "    <tr>\n",
       "      <th>416142</th>\n",
       "      <td>a $5-10 million</td>\n",
       "      <td>2012 USP HOLDINGS, INC.</td>\n",
       "      <td>570 Elmont Road</td>\n",
       "      <td>Elmont</td>\n",
       "      <td>NY</td>\n",
       "      <td>11003.0</td>\n",
       "      <td>511120.0</td>\n",
       "      <td>Subchapter S Corporation</td>\n",
       "      <td>Unanswered</td>\n",
       "      <td>Unanswered</td>\n",
       "      <td>Unanswered</td>\n",
       "      <td>NaN</td>\n",
       "      <td>500.0</td>\n",
       "      <td>04/15/2020</td>\n",
       "      <td>Manufacturers and Traders Trust Company</td>\n",
       "      <td>NY-04</td>\n",
       "    </tr>\n",
       "  </tbody>\n",
       "</table>\n",
       "</div>"
      ],
      "text/plain": [
       "              LoanRange                  BusinessName  \\\n",
       "416141  a $5-10 million  1186 BROADWAY RESTAURANT LLC   \n",
       "416142  a $5-10 million       2012 USP HOLDINGS, INC.   \n",
       "\n",
       "                          Address      City State      Zip  NAICSCode  \\\n",
       "416141  30 W 26th Street Floor 12  NEW YORK    NY  10010.0   721110.0   \n",
       "416142            570 Elmont Road    Elmont    NY  11003.0   511120.0   \n",
       "\n",
       "                           BusinessType RaceEthnicity      Gender     Veteran  \\\n",
       "416141  Limited  Liability Company(LLC)    Unanswered  Unanswered  Unanswered   \n",
       "416142         Subchapter S Corporation    Unanswered  Unanswered  Unanswered   \n",
       "\n",
       "       NonProfit  JobsReported DateApproved  \\\n",
       "416141       NaN         417.0   04/15/2020   \n",
       "416142       NaN         500.0   04/15/2020   \n",
       "\n",
       "                                         Lender     CD  \n",
       "416141     BMO Harris Bank National Association  NY-12  \n",
       "416142  Manufacturers and Traders Trust Company  NY-04  "
      ]
     },
     "execution_count": 9,
     "metadata": {},
     "output_type": "execute_result"
    }
   ],
   "source": [
    "df2 = df2[df2['CD'].str.contains(\"NY\", na=False)]\n",
    "df2.head(2)"
   ]
  },
  {
   "cell_type": "code",
   "execution_count": 10,
   "metadata": {},
   "outputs": [
    {
     "data": {
      "text/plain": [
       "(47065, 16)"
      ]
     },
     "execution_count": 10,
     "metadata": {},
     "output_type": "execute_result"
    }
   ],
   "source": [
    "df2.shape"
   ]
  },
  {
   "cell_type": "code",
   "execution_count": null,
   "metadata": {},
   "outputs": [],
   "source": []
  },
  {
   "cell_type": "markdown",
   "metadata": {},
   "source": [
    "## Merging df and df2"
   ]
  },
  {
   "cell_type": "markdown",
   "metadata": {},
   "source": [
    "#### Organizing df and df2 before merging the two"
   ]
  },
  {
   "cell_type": "code",
   "execution_count": 11,
   "metadata": {},
   "outputs": [
    {
     "data": {
      "text/html": [
       "<div>\n",
       "<style scoped>\n",
       "    .dataframe tbody tr th:only-of-type {\n",
       "        vertical-align: middle;\n",
       "    }\n",
       "\n",
       "    .dataframe tbody tr th {\n",
       "        vertical-align: top;\n",
       "    }\n",
       "\n",
       "    .dataframe thead th {\n",
       "        text-align: right;\n",
       "    }\n",
       "</style>\n",
       "<table border=\"1\" class=\"dataframe\">\n",
       "  <thead>\n",
       "    <tr style=\"text-align: right;\">\n",
       "      <th></th>\n",
       "      <th>LoanRange</th>\n",
       "      <th>BusinessName</th>\n",
       "      <th>Address</th>\n",
       "      <th>City</th>\n",
       "      <th>State</th>\n",
       "      <th>Zip</th>\n",
       "      <th>NAICSCode</th>\n",
       "      <th>BusinessType</th>\n",
       "      <th>RaceEthnicity</th>\n",
       "      <th>Gender</th>\n",
       "      <th>Veteran</th>\n",
       "      <th>NonProfit</th>\n",
       "      <th>JobsReported</th>\n",
       "      <th>DateApproved</th>\n",
       "      <th>Lender</th>\n",
       "      <th>CD</th>\n",
       "    </tr>\n",
       "  </thead>\n",
       "  <tbody>\n",
       "    <tr>\n",
       "      <th>416141</th>\n",
       "      <td>a $5-10 million</td>\n",
       "      <td>1186 BROADWAY RESTAURANT LLC</td>\n",
       "      <td>30 W 26th Street Floor 12</td>\n",
       "      <td>NEW YORK</td>\n",
       "      <td>NY</td>\n",
       "      <td>10010.0</td>\n",
       "      <td>721110.0</td>\n",
       "      <td>Limited  Liability Company(LLC)</td>\n",
       "      <td>Unanswered</td>\n",
       "      <td>Unanswered</td>\n",
       "      <td>Unanswered</td>\n",
       "      <td>NaN</td>\n",
       "      <td>417.0</td>\n",
       "      <td>04/15/2020</td>\n",
       "      <td>BMO Harris Bank National Association</td>\n",
       "      <td>NY-12</td>\n",
       "    </tr>\n",
       "    <tr>\n",
       "      <th>416142</th>\n",
       "      <td>a $5-10 million</td>\n",
       "      <td>2012 USP HOLDINGS, INC.</td>\n",
       "      <td>570 Elmont Road</td>\n",
       "      <td>Elmont</td>\n",
       "      <td>NY</td>\n",
       "      <td>11003.0</td>\n",
       "      <td>511120.0</td>\n",
       "      <td>Subchapter S Corporation</td>\n",
       "      <td>Unanswered</td>\n",
       "      <td>Unanswered</td>\n",
       "      <td>Unanswered</td>\n",
       "      <td>NaN</td>\n",
       "      <td>500.0</td>\n",
       "      <td>04/15/2020</td>\n",
       "      <td>Manufacturers and Traders Trust Company</td>\n",
       "      <td>NY-04</td>\n",
       "    </tr>\n",
       "  </tbody>\n",
       "</table>\n",
       "</div>"
      ],
      "text/plain": [
       "              LoanRange                  BusinessName  \\\n",
       "416141  a $5-10 million  1186 BROADWAY RESTAURANT LLC   \n",
       "416142  a $5-10 million       2012 USP HOLDINGS, INC.   \n",
       "\n",
       "                          Address      City State      Zip  NAICSCode  \\\n",
       "416141  30 W 26th Street Floor 12  NEW YORK    NY  10010.0   721110.0   \n",
       "416142            570 Elmont Road    Elmont    NY  11003.0   511120.0   \n",
       "\n",
       "                           BusinessType RaceEthnicity      Gender     Veteran  \\\n",
       "416141  Limited  Liability Company(LLC)    Unanswered  Unanswered  Unanswered   \n",
       "416142         Subchapter S Corporation    Unanswered  Unanswered  Unanswered   \n",
       "\n",
       "       NonProfit  JobsReported DateApproved  \\\n",
       "416141       NaN         417.0   04/15/2020   \n",
       "416142       NaN         500.0   04/15/2020   \n",
       "\n",
       "                                         Lender     CD  \n",
       "416141     BMO Harris Bank National Association  NY-12  \n",
       "416142  Manufacturers and Traders Trust Company  NY-04  "
      ]
     },
     "execution_count": 11,
     "metadata": {},
     "output_type": "execute_result"
    }
   ],
   "source": [
    "df2.head(2)"
   ]
  },
  {
   "cell_type": "code",
   "execution_count": 12,
   "metadata": {},
   "outputs": [
    {
     "data": {
      "text/html": [
       "<div>\n",
       "<style scoped>\n",
       "    .dataframe tbody tr th:only-of-type {\n",
       "        vertical-align: middle;\n",
       "    }\n",
       "\n",
       "    .dataframe tbody tr th {\n",
       "        vertical-align: top;\n",
       "    }\n",
       "\n",
       "    .dataframe thead th {\n",
       "        text-align: right;\n",
       "    }\n",
       "</style>\n",
       "<table border=\"1\" class=\"dataframe\">\n",
       "  <thead>\n",
       "    <tr style=\"text-align: right;\">\n",
       "      <th></th>\n",
       "      <th>LoanRange</th>\n",
       "      <th>Zip</th>\n",
       "      <th>NAICSCode</th>\n",
       "      <th>City</th>\n",
       "      <th>BusinessType</th>\n",
       "      <th>RaceEthnicity</th>\n",
       "      <th>Gender</th>\n",
       "      <th>Lender</th>\n",
       "      <th>CD</th>\n",
       "    </tr>\n",
       "  </thead>\n",
       "  <tbody>\n",
       "    <tr>\n",
       "      <th>416141</th>\n",
       "      <td>a $5-10 million</td>\n",
       "      <td>10010.0</td>\n",
       "      <td>721110.0</td>\n",
       "      <td>NEW YORK</td>\n",
       "      <td>Limited  Liability Company(LLC)</td>\n",
       "      <td>Unanswered</td>\n",
       "      <td>Unanswered</td>\n",
       "      <td>BMO Harris Bank National Association</td>\n",
       "      <td>NY-12</td>\n",
       "    </tr>\n",
       "    <tr>\n",
       "      <th>416142</th>\n",
       "      <td>a $5-10 million</td>\n",
       "      <td>11003.0</td>\n",
       "      <td>511120.0</td>\n",
       "      <td>Elmont</td>\n",
       "      <td>Subchapter S Corporation</td>\n",
       "      <td>Unanswered</td>\n",
       "      <td>Unanswered</td>\n",
       "      <td>Manufacturers and Traders Trust Company</td>\n",
       "      <td>NY-04</td>\n",
       "    </tr>\n",
       "  </tbody>\n",
       "</table>\n",
       "</div>"
      ],
      "text/plain": [
       "              LoanRange      Zip  NAICSCode      City  \\\n",
       "416141  a $5-10 million  10010.0   721110.0  NEW YORK   \n",
       "416142  a $5-10 million  11003.0   511120.0    Elmont   \n",
       "\n",
       "                           BusinessType RaceEthnicity      Gender  \\\n",
       "416141  Limited  Liability Company(LLC)    Unanswered  Unanswered   \n",
       "416142         Subchapter S Corporation    Unanswered  Unanswered   \n",
       "\n",
       "                                         Lender     CD  \n",
       "416141     BMO Harris Bank National Association  NY-12  \n",
       "416142  Manufacturers and Traders Trust Company  NY-04  "
      ]
     },
     "execution_count": 12,
     "metadata": {},
     "output_type": "execute_result"
    }
   ],
   "source": [
    "df2 = df2[['LoanRange', 'Zip', 'NAICSCode', 'City', 'BusinessType', 'RaceEthnicity', 'Gender', 'Lender', 'CD']]\n",
    "df2.head(2)"
   ]
  },
  {
   "cell_type": "code",
   "execution_count": 13,
   "metadata": {},
   "outputs": [],
   "source": [
    "df2.rename(columns={'LoanRange':'LoanAmount'}, inplace=True)"
   ]
  },
  {
   "cell_type": "code",
   "execution_count": 94,
   "metadata": {},
   "outputs": [
    {
     "data": {
      "text/html": [
       "<div>\n",
       "<style scoped>\n",
       "    .dataframe tbody tr th:only-of-type {\n",
       "        vertical-align: middle;\n",
       "    }\n",
       "\n",
       "    .dataframe tbody tr th {\n",
       "        vertical-align: top;\n",
       "    }\n",
       "\n",
       "    .dataframe thead th {\n",
       "        text-align: right;\n",
       "    }\n",
       "</style>\n",
       "<table border=\"1\" class=\"dataframe\">\n",
       "  <thead>\n",
       "    <tr style=\"text-align: right;\">\n",
       "      <th></th>\n",
       "      <th>LoanAmount</th>\n",
       "      <th>Zip</th>\n",
       "      <th>NAICSCode</th>\n",
       "      <th>City</th>\n",
       "      <th>BusinessType</th>\n",
       "      <th>RaceEthnicity</th>\n",
       "      <th>Gender</th>\n",
       "      <th>Lender</th>\n",
       "      <th>CD</th>\n",
       "    </tr>\n",
       "  </thead>\n",
       "  <tbody>\n",
       "    <tr>\n",
       "      <th>416141</th>\n",
       "      <td>a $5-10 million</td>\n",
       "      <td>10010.0</td>\n",
       "      <td>721110.0</td>\n",
       "      <td>NEW YORK</td>\n",
       "      <td>Limited  Liability Company(LLC)</td>\n",
       "      <td>Unanswered</td>\n",
       "      <td>Unanswered</td>\n",
       "      <td>BMO Harris Bank National Association</td>\n",
       "      <td>NY-12</td>\n",
       "    </tr>\n",
       "    <tr>\n",
       "      <th>416142</th>\n",
       "      <td>a $5-10 million</td>\n",
       "      <td>11003.0</td>\n",
       "      <td>511120.0</td>\n",
       "      <td>Elmont</td>\n",
       "      <td>Subchapter S Corporation</td>\n",
       "      <td>Unanswered</td>\n",
       "      <td>Unanswered</td>\n",
       "      <td>Manufacturers and Traders Trust Company</td>\n",
       "      <td>NY-04</td>\n",
       "    </tr>\n",
       "  </tbody>\n",
       "</table>\n",
       "</div>"
      ],
      "text/plain": [
       "             LoanAmount      Zip  NAICSCode      City  \\\n",
       "416141  a $5-10 million  10010.0   721110.0  NEW YORK   \n",
       "416142  a $5-10 million  11003.0   511120.0    Elmont   \n",
       "\n",
       "                           BusinessType RaceEthnicity      Gender  \\\n",
       "416141  Limited  Liability Company(LLC)    Unanswered  Unanswered   \n",
       "416142         Subchapter S Corporation    Unanswered  Unanswered   \n",
       "\n",
       "                                         Lender     CD  \n",
       "416141     BMO Harris Bank National Association  NY-12  \n",
       "416142  Manufacturers and Traders Trust Company  NY-04  "
      ]
     },
     "execution_count": 94,
     "metadata": {},
     "output_type": "execute_result"
    }
   ],
   "source": [
    "df2.head(2)"
   ]
  },
  {
   "cell_type": "code",
   "execution_count": 15,
   "metadata": {},
   "outputs": [
    {
     "data": {
      "text/html": [
       "<div>\n",
       "<style scoped>\n",
       "    .dataframe tbody tr th:only-of-type {\n",
       "        vertical-align: middle;\n",
       "    }\n",
       "\n",
       "    .dataframe tbody tr th {\n",
       "        vertical-align: top;\n",
       "    }\n",
       "\n",
       "    .dataframe thead th {\n",
       "        text-align: right;\n",
       "    }\n",
       "</style>\n",
       "<table border=\"1\" class=\"dataframe\">\n",
       "  <thead>\n",
       "    <tr style=\"text-align: right;\">\n",
       "      <th></th>\n",
       "      <th>LoanAmount</th>\n",
       "      <th>Zip</th>\n",
       "      <th>NAICSCode</th>\n",
       "      <th>City</th>\n",
       "      <th>BusinessType</th>\n",
       "      <th>RaceEthnicity</th>\n",
       "      <th>Gender</th>\n",
       "      <th>Lender</th>\n",
       "      <th>CD</th>\n",
       "    </tr>\n",
       "  </thead>\n",
       "  <tbody>\n",
       "    <tr>\n",
       "      <th>0</th>\n",
       "      <td>149990.0</td>\n",
       "      <td>10309.0</td>\n",
       "      <td>238340.0</td>\n",
       "      <td>STATEN ISLAND</td>\n",
       "      <td>Subchapter S Corporation</td>\n",
       "      <td>Unanswered</td>\n",
       "      <td>Unanswered</td>\n",
       "      <td>JPMorgan Chase Bank, National Association</td>\n",
       "      <td>NY-11</td>\n",
       "    </tr>\n",
       "    <tr>\n",
       "      <th>1</th>\n",
       "      <td>149990.0</td>\n",
       "      <td>11357.0</td>\n",
       "      <td>621210.0</td>\n",
       "      <td>WHITESTONE</td>\n",
       "      <td>Corporation</td>\n",
       "      <td>Unanswered</td>\n",
       "      <td>Male Owned</td>\n",
       "      <td>JPMorgan Chase Bank, National Association</td>\n",
       "      <td>NY-03</td>\n",
       "    </tr>\n",
       "  </tbody>\n",
       "</table>\n",
       "</div>"
      ],
      "text/plain": [
       "   LoanAmount      Zip  NAICSCode           City              BusinessType  \\\n",
       "0    149990.0  10309.0   238340.0  STATEN ISLAND  Subchapter S Corporation   \n",
       "1    149990.0  11357.0   621210.0     WHITESTONE               Corporation   \n",
       "\n",
       "  RaceEthnicity      Gender                                     Lender     CD  \n",
       "0    Unanswered  Unanswered  JPMorgan Chase Bank, National Association  NY-11  \n",
       "1    Unanswered  Male Owned  JPMorgan Chase Bank, National Association  NY-03  "
      ]
     },
     "execution_count": 15,
     "metadata": {},
     "output_type": "execute_result"
    }
   ],
   "source": [
    "df = df[['LoanAmount', 'Zip', 'NAICSCode', 'City', 'BusinessType', 'RaceEthnicity', 'Gender', 'Lender', 'CD']]\n",
    "df.head(2)"
   ]
  },
  {
   "cell_type": "markdown",
   "metadata": {},
   "source": [
    "#### Merging the two dataframes"
   ]
  },
  {
   "cell_type": "code",
   "execution_count": 16,
   "metadata": {},
   "outputs": [
    {
     "data": {
      "text/html": [
       "<div>\n",
       "<style scoped>\n",
       "    .dataframe tbody tr th:only-of-type {\n",
       "        vertical-align: middle;\n",
       "    }\n",
       "\n",
       "    .dataframe tbody tr th {\n",
       "        vertical-align: top;\n",
       "    }\n",
       "\n",
       "    .dataframe thead th {\n",
       "        text-align: right;\n",
       "    }\n",
       "</style>\n",
       "<table border=\"1\" class=\"dataframe\">\n",
       "  <thead>\n",
       "    <tr style=\"text-align: right;\">\n",
       "      <th></th>\n",
       "      <th>LoanAmount</th>\n",
       "      <th>Zip</th>\n",
       "      <th>NAICSCode</th>\n",
       "      <th>City</th>\n",
       "      <th>BusinessType</th>\n",
       "      <th>RaceEthnicity</th>\n",
       "      <th>Gender</th>\n",
       "      <th>Lender</th>\n",
       "      <th>CD</th>\n",
       "    </tr>\n",
       "  </thead>\n",
       "  <tbody>\n",
       "    <tr>\n",
       "      <th>0</th>\n",
       "      <td>149990</td>\n",
       "      <td>10309.0</td>\n",
       "      <td>238340.0</td>\n",
       "      <td>STATEN ISLAND</td>\n",
       "      <td>Subchapter S Corporation</td>\n",
       "      <td>Unanswered</td>\n",
       "      <td>Unanswered</td>\n",
       "      <td>JPMorgan Chase Bank, National Association</td>\n",
       "      <td>NY-11</td>\n",
       "    </tr>\n",
       "    <tr>\n",
       "      <th>1</th>\n",
       "      <td>149990</td>\n",
       "      <td>11357.0</td>\n",
       "      <td>621210.0</td>\n",
       "      <td>WHITESTONE</td>\n",
       "      <td>Corporation</td>\n",
       "      <td>Unanswered</td>\n",
       "      <td>Male Owned</td>\n",
       "      <td>JPMorgan Chase Bank, National Association</td>\n",
       "      <td>NY-03</td>\n",
       "    </tr>\n",
       "  </tbody>\n",
       "</table>\n",
       "</div>"
      ],
      "text/plain": [
       "  LoanAmount      Zip  NAICSCode           City              BusinessType  \\\n",
       "0     149990  10309.0   238340.0  STATEN ISLAND  Subchapter S Corporation   \n",
       "1     149990  11357.0   621210.0     WHITESTONE               Corporation   \n",
       "\n",
       "  RaceEthnicity      Gender                                     Lender     CD  \n",
       "0    Unanswered  Unanswered  JPMorgan Chase Bank, National Association  NY-11  \n",
       "1    Unanswered  Male Owned  JPMorgan Chase Bank, National Association  NY-03  "
      ]
     },
     "execution_count": 16,
     "metadata": {},
     "output_type": "execute_result"
    }
   ],
   "source": [
    "df_Joined = pd.concat([df, df2])\n",
    "df_Joined.head(2)"
   ]
  },
  {
   "cell_type": "code",
   "execution_count": 17,
   "metadata": {},
   "outputs": [
    {
     "data": {
      "text/plain": [
       "(348860, 9)"
      ]
     },
     "execution_count": 17,
     "metadata": {},
     "output_type": "execute_result"
    }
   ],
   "source": [
    "df_Joined.shape"
   ]
  },
  {
   "cell_type": "markdown",
   "metadata": {},
   "source": [
    "## Narrowing df_Joined to New York City"
   ]
  },
  {
   "cell_type": "code",
   "execution_count": 18,
   "metadata": {},
   "outputs": [],
   "source": [
    "# NY - 3, 5, 6, 7, 8, 9, 10, 11, 12, 13, 14, 15, 16"
   ]
  },
  {
   "cell_type": "code",
   "execution_count": 19,
   "metadata": {},
   "outputs": [],
   "source": [
    "# Kings and Queens, the two westernmost counties, are also boroughs of New York City.\n",
    "df_Joined1 = df_Joined[df_Joined.CD == 'NY-03']\n",
    "\n",
    "df_Joined3 = df_Joined[df_Joined.CD == 'NY-05']\n",
    "#Most of the district is in Queens, but a small portion is located in Nassau County. \n",
    "\n",
    "df_Joined4 = df_Joined[df_Joined.CD == 'NY-06']\n",
    "df_Joined5 = df_Joined[df_Joined.CD == 'NY-08']\n",
    "df_Joined6 = df_Joined[df_Joined.CD == 'NY-10']\n",
    "df_Joined7 = df_Joined[df_Joined.CD == 'NY-11']\n",
    "df_Joined8 = df_Joined[df_Joined.CD == 'NY-12']\n",
    "df_Joined9 = df_Joined[df_Joined.CD == 'NY-13']\n",
    "df_Joined10 = df_Joined[df_Joined.CD == 'NY-14']\n",
    "df_Joined11 = df_Joined[df_Joined.CD == 'NY-15']\n",
    "df_Joined12 = df_Joined[df_Joined.CD == 'NY-16']\n",
    "df_Joined13 = df_Joined[df_Joined.CD == 'NY-09']\n",
    "df_Joined15 = df_Joined[df_Joined.CD == 'NY-07']"
   ]
  },
  {
   "cell_type": "code",
   "execution_count": 20,
   "metadata": {},
   "outputs": [
    {
     "data": {
      "text/html": [
       "<div>\n",
       "<style scoped>\n",
       "    .dataframe tbody tr th:only-of-type {\n",
       "        vertical-align: middle;\n",
       "    }\n",
       "\n",
       "    .dataframe tbody tr th {\n",
       "        vertical-align: top;\n",
       "    }\n",
       "\n",
       "    .dataframe thead th {\n",
       "        text-align: right;\n",
       "    }\n",
       "</style>\n",
       "<table border=\"1\" class=\"dataframe\">\n",
       "  <thead>\n",
       "    <tr style=\"text-align: right;\">\n",
       "      <th></th>\n",
       "      <th>LoanAmount</th>\n",
       "      <th>Zip</th>\n",
       "      <th>NAICSCode</th>\n",
       "      <th>City</th>\n",
       "      <th>BusinessType</th>\n",
       "      <th>RaceEthnicity</th>\n",
       "      <th>Gender</th>\n",
       "      <th>Lender</th>\n",
       "      <th>CD</th>\n",
       "    </tr>\n",
       "  </thead>\n",
       "  <tbody>\n",
       "    <tr>\n",
       "      <th>1</th>\n",
       "      <td>149990</td>\n",
       "      <td>11357.0</td>\n",
       "      <td>621210.0</td>\n",
       "      <td>WHITESTONE</td>\n",
       "      <td>Corporation</td>\n",
       "      <td>Unanswered</td>\n",
       "      <td>Male Owned</td>\n",
       "      <td>JPMorgan Chase Bank, National Association</td>\n",
       "      <td>NY-03</td>\n",
       "    </tr>\n",
       "    <tr>\n",
       "      <th>13</th>\n",
       "      <td>149938</td>\n",
       "      <td>11753.0</td>\n",
       "      <td>721110.0</td>\n",
       "      <td>Jericho</td>\n",
       "      <td>Limited  Liability Company(LLC)</td>\n",
       "      <td>Asian</td>\n",
       "      <td>Male Owned</td>\n",
       "      <td>KEB Hana Bank USA, National Association</td>\n",
       "      <td>NY-03</td>\n",
       "    </tr>\n",
       "    <tr>\n",
       "      <th>25</th>\n",
       "      <td>149900</td>\n",
       "      <td>11021.0</td>\n",
       "      <td>541211.0</td>\n",
       "      <td>Great Neck</td>\n",
       "      <td>Limited  Liability Company(LLC)</td>\n",
       "      <td>Unanswered</td>\n",
       "      <td>Unanswered</td>\n",
       "      <td>Sterling National Bank</td>\n",
       "      <td>NY-03</td>\n",
       "    </tr>\n",
       "    <tr>\n",
       "      <th>34</th>\n",
       "      <td>149872</td>\n",
       "      <td>11714.0</td>\n",
       "      <td>999990.0</td>\n",
       "      <td>BETHPAGE</td>\n",
       "      <td>Limited  Liability Company(LLC)</td>\n",
       "      <td>Unanswered</td>\n",
       "      <td>Unanswered</td>\n",
       "      <td>JPMorgan Chase Bank, National Association</td>\n",
       "      <td>NY-03</td>\n",
       "    </tr>\n",
       "    <tr>\n",
       "      <th>71</th>\n",
       "      <td>149700</td>\n",
       "      <td>11023.0</td>\n",
       "      <td>813110.0</td>\n",
       "      <td>Great Neck</td>\n",
       "      <td>Professional Association</td>\n",
       "      <td>Unanswered</td>\n",
       "      <td>Unanswered</td>\n",
       "      <td>Sterling National Bank</td>\n",
       "      <td>NY-03</td>\n",
       "    </tr>\n",
       "    <tr>\n",
       "      <th>...</th>\n",
       "      <td>...</td>\n",
       "      <td>...</td>\n",
       "      <td>...</td>\n",
       "      <td>...</td>\n",
       "      <td>...</td>\n",
       "      <td>...</td>\n",
       "      <td>...</td>\n",
       "      <td>...</td>\n",
       "      <td>...</td>\n",
       "    </tr>\n",
       "    <tr>\n",
       "      <th>463115</th>\n",
       "      <td>e $150,000-350,000</td>\n",
       "      <td>11416.0</td>\n",
       "      <td>236115.0</td>\n",
       "      <td>OZONE PARK</td>\n",
       "      <td>Corporation</td>\n",
       "      <td>Unanswered</td>\n",
       "      <td>Unanswered</td>\n",
       "      <td>Valley National Bank</td>\n",
       "      <td>NY-07</td>\n",
       "    </tr>\n",
       "    <tr>\n",
       "      <th>463150</th>\n",
       "      <td>e $150,000-350,000</td>\n",
       "      <td>11231.0</td>\n",
       "      <td>425120.0</td>\n",
       "      <td>Brooklyn</td>\n",
       "      <td>Corporation</td>\n",
       "      <td>Unanswered</td>\n",
       "      <td>Unanswered</td>\n",
       "      <td>First Republic Bank</td>\n",
       "      <td>NY-07</td>\n",
       "    </tr>\n",
       "    <tr>\n",
       "      <th>463155</th>\n",
       "      <td>e $150,000-350,000</td>\n",
       "      <td>11201.0</td>\n",
       "      <td>236115.0</td>\n",
       "      <td>brooklyn</td>\n",
       "      <td>Limited  Liability Company(LLC)</td>\n",
       "      <td>Unanswered</td>\n",
       "      <td>Unanswered</td>\n",
       "      <td>Cross River Bank</td>\n",
       "      <td>NY-07</td>\n",
       "    </tr>\n",
       "    <tr>\n",
       "      <th>463191</th>\n",
       "      <td>e $150,000-350,000</td>\n",
       "      <td>11232.0</td>\n",
       "      <td>238220.0</td>\n",
       "      <td>Brooklyn</td>\n",
       "      <td>Corporation</td>\n",
       "      <td>Unanswered</td>\n",
       "      <td>Female Owned</td>\n",
       "      <td>Manufacturers and Traders Trust Company</td>\n",
       "      <td>NY-07</td>\n",
       "    </tr>\n",
       "    <tr>\n",
       "      <th>463203</th>\n",
       "      <td>e $150,000-350,000</td>\n",
       "      <td>11220.0</td>\n",
       "      <td>453998.0</td>\n",
       "      <td>BROOKLYN</td>\n",
       "      <td>Corporation</td>\n",
       "      <td>Unanswered</td>\n",
       "      <td>Unanswered</td>\n",
       "      <td>Citibank, N.A.</td>\n",
       "      <td>NY-07</td>\n",
       "    </tr>\n",
       "  </tbody>\n",
       "</table>\n",
       "<p>185629 rows × 9 columns</p>\n",
       "</div>"
      ],
      "text/plain": [
       "                LoanAmount      Zip  NAICSCode        City  \\\n",
       "1                   149990  11357.0   621210.0  WHITESTONE   \n",
       "13                  149938  11753.0   721110.0     Jericho   \n",
       "25                  149900  11021.0   541211.0  Great Neck   \n",
       "34                  149872  11714.0   999990.0    BETHPAGE   \n",
       "71                  149700  11023.0   813110.0  Great Neck   \n",
       "...                    ...      ...        ...         ...   \n",
       "463115  e $150,000-350,000  11416.0   236115.0  OZONE PARK   \n",
       "463150  e $150,000-350,000  11231.0   425120.0    Brooklyn   \n",
       "463155  e $150,000-350,000  11201.0   236115.0    brooklyn   \n",
       "463191  e $150,000-350,000  11232.0   238220.0    Brooklyn   \n",
       "463203  e $150,000-350,000  11220.0   453998.0    BROOKLYN   \n",
       "\n",
       "                           BusinessType RaceEthnicity        Gender  \\\n",
       "1                           Corporation    Unanswered    Male Owned   \n",
       "13      Limited  Liability Company(LLC)         Asian    Male Owned   \n",
       "25      Limited  Liability Company(LLC)    Unanswered    Unanswered   \n",
       "34      Limited  Liability Company(LLC)    Unanswered    Unanswered   \n",
       "71             Professional Association    Unanswered    Unanswered   \n",
       "...                                 ...           ...           ...   \n",
       "463115                      Corporation    Unanswered    Unanswered   \n",
       "463150                      Corporation    Unanswered    Unanswered   \n",
       "463155  Limited  Liability Company(LLC)    Unanswered    Unanswered   \n",
       "463191                      Corporation    Unanswered  Female Owned   \n",
       "463203                      Corporation    Unanswered    Unanswered   \n",
       "\n",
       "                                           Lender     CD  \n",
       "1       JPMorgan Chase Bank, National Association  NY-03  \n",
       "13        KEB Hana Bank USA, National Association  NY-03  \n",
       "25                         Sterling National Bank  NY-03  \n",
       "34      JPMorgan Chase Bank, National Association  NY-03  \n",
       "71                         Sterling National Bank  NY-03  \n",
       "...                                           ...    ...  \n",
       "463115                       Valley National Bank  NY-07  \n",
       "463150                        First Republic Bank  NY-07  \n",
       "463155                           Cross River Bank  NY-07  \n",
       "463191    Manufacturers and Traders Trust Company  NY-07  \n",
       "463203                             Citibank, N.A.  NY-07  \n",
       "\n",
       "[185629 rows x 9 columns]"
      ]
     },
     "execution_count": 20,
     "metadata": {},
     "output_type": "execute_result"
    }
   ],
   "source": [
    "df_JoinedFinal = pd.concat([df_Joined1,df_Joined3,df_Joined4,df_Joined5,df_Joined6,df_Joined7,df_Joined8,df_Joined9,df_Joined10,df_Joined11,df_Joined12, df_Joined13, df_Joined15])\n",
    "df_JoinedFinal"
   ]
  },
  {
   "cell_type": "code",
   "execution_count": 21,
   "metadata": {},
   "outputs": [],
   "source": [
    "df_JoinedFinal.to_csv('PPP_Firstdraw.csv', index=False)"
   ]
  },
  {
   "cell_type": "code",
   "execution_count": null,
   "metadata": {},
   "outputs": [],
   "source": []
  },
  {
   "cell_type": "markdown",
   "metadata": {},
   "source": [
    "### Adding a column for maximum possible loan amount"
   ]
  },
  {
   "cell_type": "code",
   "execution_count": 22,
   "metadata": {},
   "outputs": [],
   "source": [
    "df_JoinedFinal['Max_LoanAmount'] = df_JoinedFinal['LoanAmount']"
   ]
  },
  {
   "cell_type": "code",
   "execution_count": 23,
   "metadata": {},
   "outputs": [],
   "source": [
    "df_JoinedFinal = df_JoinedFinal[['LoanAmount', 'Max_LoanAmount', 'Zip', 'NAICSCode', 'City', 'BusinessType', 'RaceEthnicity', 'Gender', 'Lender', 'CD']]"
   ]
  },
  {
   "cell_type": "code",
   "execution_count": null,
   "metadata": {},
   "outputs": [],
   "source": []
  },
  {
   "cell_type": "markdown",
   "metadata": {},
   "source": [
    "# Cleaning min. and max. approved loan"
   ]
  },
  {
   "cell_type": "markdown",
   "metadata": {},
   "source": [
    "### replacing minimum amount with numbers"
   ]
  },
  {
   "cell_type": "code",
   "execution_count": 24,
   "metadata": {},
   "outputs": [],
   "source": [
    "df_JoinedFinal = df_JoinedFinal.rename(columns={\"LoanAmount\": \"Min_LoanAmount\"})\n",
    "\n",
    "df_JoinedFinal['Min_LoanAmount'] = df_JoinedFinal['Min_LoanAmount'].replace('a $5-10 million', 5000000)\n",
    "df_JoinedFinal['Min_LoanAmount'] = df_JoinedFinal['Min_LoanAmount'].replace('b $2-5 million', 2000000)\n",
    "df_JoinedFinal['Min_LoanAmount'] = df_JoinedFinal['Min_LoanAmount'].replace('c $1-2 million', 1000000)\n",
    "df_JoinedFinal['Min_LoanAmount'] = df_JoinedFinal['Min_LoanAmount'].replace('d $350,000-1 million', 350000)\n",
    "df_JoinedFinal['Min_LoanAmount'] = df_JoinedFinal['Min_LoanAmount'].replace('e $150,000-350,000', 150000)"
   ]
  },
  {
   "cell_type": "markdown",
   "metadata": {},
   "source": [
    "### replacing maximum amount with numbers"
   ]
  },
  {
   "cell_type": "code",
   "execution_count": 25,
   "metadata": {},
   "outputs": [],
   "source": [
    "df_JoinedFinal['Max_LoanAmount'] = df_JoinedFinal['Max_LoanAmount'].replace('a $5-10 million', 10000000)\n",
    "df_JoinedFinal['Max_LoanAmount'] = df_JoinedFinal['Max_LoanAmount'].replace('b $2-5 million', 5000000)\n",
    "df_JoinedFinal['Max_LoanAmount'] = df_JoinedFinal['Max_LoanAmount'].replace('c $1-2 million', 2000000)\n",
    "df_JoinedFinal['Max_LoanAmount'] = df_JoinedFinal['Max_LoanAmount'].replace('d $350,000-1 million', 1000000)\n",
    "df_JoinedFinal['Max_LoanAmount'] = df_JoinedFinal['Max_LoanAmount'].replace('e $150,000-350,000', 350000)"
   ]
  },
  {
   "cell_type": "code",
   "execution_count": null,
   "metadata": {},
   "outputs": [],
   "source": []
  },
  {
   "cell_type": "markdown",
   "metadata": {},
   "source": [
    "## Analyzing dataframe by NAICSCode"
   ]
  },
  {
   "cell_type": "code",
   "execution_count": 27,
   "metadata": {},
   "outputs": [
    {
     "data": {
      "text/html": [
       "<div>\n",
       "<style scoped>\n",
       "    .dataframe tbody tr th:only-of-type {\n",
       "        vertical-align: middle;\n",
       "    }\n",
       "\n",
       "    .dataframe tbody tr th {\n",
       "        vertical-align: top;\n",
       "    }\n",
       "\n",
       "    .dataframe thead th {\n",
       "        text-align: right;\n",
       "    }\n",
       "</style>\n",
       "<table border=\"1\" class=\"dataframe\">\n",
       "  <thead>\n",
       "    <tr style=\"text-align: right;\">\n",
       "      <th></th>\n",
       "      <th>Min_LoanAmount</th>\n",
       "      <th>Max_LoanAmount</th>\n",
       "      <th>Zip</th>\n",
       "      <th>NAICSCode</th>\n",
       "      <th>City</th>\n",
       "      <th>BusinessType</th>\n",
       "      <th>RaceEthnicity</th>\n",
       "      <th>Gender</th>\n",
       "      <th>Lender</th>\n",
       "      <th>CD</th>\n",
       "    </tr>\n",
       "  </thead>\n",
       "  <tbody>\n",
       "    <tr>\n",
       "      <th>1</th>\n",
       "      <td>149990.00</td>\n",
       "      <td>149990.00</td>\n",
       "      <td>11357.0</td>\n",
       "      <td>621210.0</td>\n",
       "      <td>WHITESTONE</td>\n",
       "      <td>Corporation</td>\n",
       "      <td>Unanswered</td>\n",
       "      <td>Male Owned</td>\n",
       "      <td>JPMorgan Chase Bank, National Association</td>\n",
       "      <td>NY-03</td>\n",
       "    </tr>\n",
       "    <tr>\n",
       "      <th>13</th>\n",
       "      <td>149938.15</td>\n",
       "      <td>149938.15</td>\n",
       "      <td>11753.0</td>\n",
       "      <td>721110.0</td>\n",
       "      <td>Jericho</td>\n",
       "      <td>Limited  Liability Company(LLC)</td>\n",
       "      <td>Asian</td>\n",
       "      <td>Male Owned</td>\n",
       "      <td>KEB Hana Bank USA, National Association</td>\n",
       "      <td>NY-03</td>\n",
       "    </tr>\n",
       "  </tbody>\n",
       "</table>\n",
       "</div>"
      ],
      "text/plain": [
       "    Min_LoanAmount  Max_LoanAmount      Zip  NAICSCode        City  \\\n",
       "1        149990.00       149990.00  11357.0   621210.0  WHITESTONE   \n",
       "13       149938.15       149938.15  11753.0   721110.0     Jericho   \n",
       "\n",
       "                       BusinessType RaceEthnicity      Gender  \\\n",
       "1                       Corporation    Unanswered  Male Owned   \n",
       "13  Limited  Liability Company(LLC)         Asian  Male Owned   \n",
       "\n",
       "                                       Lender     CD  \n",
       "1   JPMorgan Chase Bank, National Association  NY-03  \n",
       "13    KEB Hana Bank USA, National Association  NY-03  "
      ]
     },
     "execution_count": 27,
     "metadata": {},
     "output_type": "execute_result"
    }
   ],
   "source": [
    "df_JoinedFinal.head(2)"
   ]
  },
  {
   "cell_type": "code",
   "execution_count": 28,
   "metadata": {},
   "outputs": [
    {
     "data": {
      "text/plain": [
       "NaN         10034\n",
       "722511.0     6655\n",
       "621111.0     5726\n",
       "541110.0     5360\n",
       "999990.0     4791\n",
       "812990.0     4361\n",
       "531210.0     3745\n",
       "Name: NAICSCode, dtype: int64"
      ]
     },
     "execution_count": 28,
     "metadata": {},
     "output_type": "execute_result"
    }
   ],
   "source": [
    "df_JoinedFinal['NAICSCode'].value_counts(dropna=False).head(7)\n",
    "# 722511 - Restaurant industry\n",
    "# 621111 - Doctor's offices\n",
    "# 541110 - Law firms\n",
    "# 999990 - Unclassified Establishments\n",
    "# 812990 - personal services (X include pet care services, laundry etc)\n",
    "# 531210 - Offices of real estate agents and brokers"
   ]
  },
  {
   "cell_type": "markdown",
   "metadata": {},
   "source": [
    "## Analyzing dataframe by race and ethnicity"
   ]
  },
  {
   "cell_type": "code",
   "execution_count": 97,
   "metadata": {},
   "outputs": [
    {
     "data": {
      "text/plain": [
       "Unanswered                          176216\n",
       "White                                 4479\n",
       "Asian                                 3042\n",
       "Hispanic                              1384\n",
       "Black or African American              475\n",
       "American Indian or Alaska Native        30\n",
       "Puerto Rican                             3\n",
       "Name: RaceEthnicity, dtype: int64"
      ]
     },
     "execution_count": 97,
     "metadata": {},
     "output_type": "execute_result"
    }
   ],
   "source": [
    "df_JoinedFinal['RaceEthnicity'].value_counts()"
   ]
  },
  {
   "cell_type": "markdown",
   "metadata": {},
   "source": [
    "## Analyzing borrowers by race"
   ]
  },
  {
   "cell_type": "markdown",
   "metadata": {},
   "source": [
    "#### white biz owners"
   ]
  },
  {
   "cell_type": "code",
   "execution_count": 64,
   "metadata": {},
   "outputs": [
    {
     "data": {
      "text/html": [
       "<div>\n",
       "<style scoped>\n",
       "    .dataframe tbody tr th:only-of-type {\n",
       "        vertical-align: middle;\n",
       "    }\n",
       "\n",
       "    .dataframe tbody tr th {\n",
       "        vertical-align: top;\n",
       "    }\n",
       "\n",
       "    .dataframe thead th {\n",
       "        text-align: right;\n",
       "    }\n",
       "</style>\n",
       "<table border=\"1\" class=\"dataframe\">\n",
       "  <thead>\n",
       "    <tr style=\"text-align: right;\">\n",
       "      <th></th>\n",
       "      <th>Min_LoanAmount</th>\n",
       "      <th>Max_LoanAmount</th>\n",
       "      <th>Zip</th>\n",
       "      <th>NAICSCode</th>\n",
       "      <th>City</th>\n",
       "      <th>BusinessType</th>\n",
       "      <th>RaceEthnicity</th>\n",
       "      <th>Gender</th>\n",
       "      <th>Lender</th>\n",
       "      <th>CD</th>\n",
       "    </tr>\n",
       "  </thead>\n",
       "  <tbody>\n",
       "    <tr>\n",
       "      <th>810</th>\n",
       "      <td>147055.2</td>\n",
       "      <td>147055.2</td>\n",
       "      <td>11050.0</td>\n",
       "      <td>541940.0</td>\n",
       "      <td>PORT WASHINGTON</td>\n",
       "      <td>Limited  Liability Company(LLC)</td>\n",
       "      <td>White</td>\n",
       "      <td>Male Owned</td>\n",
       "      <td>Dime Community Bank</td>\n",
       "      <td>NY-03</td>\n",
       "    </tr>\n",
       "    <tr>\n",
       "      <th>896</th>\n",
       "      <td>146741.9</td>\n",
       "      <td>146741.9</td>\n",
       "      <td>11042.0</td>\n",
       "      <td>713940.0</td>\n",
       "      <td>New Hyde Park</td>\n",
       "      <td>Subchapter S Corporation</td>\n",
       "      <td>White</td>\n",
       "      <td>Female Owned</td>\n",
       "      <td>Dime Community Bank</td>\n",
       "      <td>NY-03</td>\n",
       "    </tr>\n",
       "  </tbody>\n",
       "</table>\n",
       "</div>"
      ],
      "text/plain": [
       "     Min_LoanAmount  Max_LoanAmount      Zip  NAICSCode             City  \\\n",
       "810        147055.2        147055.2  11050.0   541940.0  PORT WASHINGTON   \n",
       "896        146741.9        146741.9  11042.0   713940.0    New Hyde Park   \n",
       "\n",
       "                        BusinessType RaceEthnicity        Gender  \\\n",
       "810  Limited  Liability Company(LLC)         White    Male Owned   \n",
       "896         Subchapter S Corporation         White  Female Owned   \n",
       "\n",
       "                  Lender     CD  \n",
       "810  Dime Community Bank  NY-03  \n",
       "896  Dime Community Bank  NY-03  "
      ]
     },
     "execution_count": 64,
     "metadata": {},
     "output_type": "execute_result"
    }
   ],
   "source": [
    "White_Lenders = df_JoinedFinal[df_JoinedFinal.RaceEthnicity == \"White\"]\n",
    "White_Lenders.head(2)"
   ]
  },
  {
   "cell_type": "code",
   "execution_count": 101,
   "metadata": {},
   "outputs": [
    {
     "data": {
      "text/plain": [
       "City National Bank                           696\n",
       "Dime Community Bank                          531\n",
       "Savoy Bank                                   289\n",
       "JPMorgan Chase Bank, National Association    223\n",
       "TD Bank, National Association                196\n",
       "                                            ... \n",
       "Salem Co-operative Bank                        1\n",
       "Quaint Oak Bank                                1\n",
       "Sterling National Bank                         1\n",
       "Axos Bank                                      1\n",
       "Triad Business Bank                            1\n",
       "Name: Lender, Length: 279, dtype: int64"
      ]
     },
     "execution_count": 101,
     "metadata": {},
     "output_type": "execute_result"
    }
   ],
   "source": [
    "# by lender\n",
    "White_Lenders.Lender.value_counts(dropna=False)"
   ]
  },
  {
   "cell_type": "code",
   "execution_count": 100,
   "metadata": {},
   "outputs": [
    {
     "data": {
      "text/plain": [
       "141710.43812681403"
      ]
     },
     "execution_count": 100,
     "metadata": {},
     "output_type": "execute_result"
    }
   ],
   "source": [
    "# avg min loan amount\n",
    "White_Lenders.Min_LoanAmount.mean()"
   ]
  },
  {
   "cell_type": "code",
   "execution_count": 102,
   "metadata": {},
   "outputs": [
    {
     "data": {
      "text/plain": [
       "291241.58347175707"
      ]
     },
     "execution_count": 102,
     "metadata": {},
     "output_type": "execute_result"
    }
   ],
   "source": [
    "# avg max loan amount\n",
    "White_Lenders.Max_LoanAmount.mean()"
   ]
  },
  {
   "cell_type": "markdown",
   "metadata": {},
   "source": [
    "#### Black biz owners"
   ]
  },
  {
   "cell_type": "code",
   "execution_count": 68,
   "metadata": {},
   "outputs": [
    {
     "data": {
      "text/html": [
       "<div>\n",
       "<style scoped>\n",
       "    .dataframe tbody tr th:only-of-type {\n",
       "        vertical-align: middle;\n",
       "    }\n",
       "\n",
       "    .dataframe tbody tr th {\n",
       "        vertical-align: top;\n",
       "    }\n",
       "\n",
       "    .dataframe thead th {\n",
       "        text-align: right;\n",
       "    }\n",
       "</style>\n",
       "<table border=\"1\" class=\"dataframe\">\n",
       "  <thead>\n",
       "    <tr style=\"text-align: right;\">\n",
       "      <th></th>\n",
       "      <th>Min_LoanAmount</th>\n",
       "      <th>Max_LoanAmount</th>\n",
       "      <th>Zip</th>\n",
       "      <th>NAICSCode</th>\n",
       "      <th>City</th>\n",
       "      <th>BusinessType</th>\n",
       "      <th>RaceEthnicity</th>\n",
       "      <th>Gender</th>\n",
       "      <th>Lender</th>\n",
       "      <th>CD</th>\n",
       "    </tr>\n",
       "  </thead>\n",
       "  <tbody>\n",
       "    <tr>\n",
       "      <th>34794</th>\n",
       "      <td>78100.0</td>\n",
       "      <td>78100.0</td>\n",
       "      <td>11797.0</td>\n",
       "      <td>515111.0</td>\n",
       "      <td>WOODBURY</td>\n",
       "      <td>Corporation</td>\n",
       "      <td>Black or African American</td>\n",
       "      <td>Male Owned</td>\n",
       "      <td>City National Bank</td>\n",
       "      <td>NY-03</td>\n",
       "    </tr>\n",
       "    <tr>\n",
       "      <th>139633</th>\n",
       "      <td>20833.0</td>\n",
       "      <td>20833.0</td>\n",
       "      <td>11568.0</td>\n",
       "      <td>551111.0</td>\n",
       "      <td>OLD WESTBURY</td>\n",
       "      <td>Corporation</td>\n",
       "      <td>Black or African American</td>\n",
       "      <td>Male Owned</td>\n",
       "      <td>Bank of America, National Association</td>\n",
       "      <td>NY-03</td>\n",
       "    </tr>\n",
       "  </tbody>\n",
       "</table>\n",
       "</div>"
      ],
      "text/plain": [
       "        Min_LoanAmount  Max_LoanAmount      Zip  NAICSCode          City  \\\n",
       "34794          78100.0         78100.0  11797.0   515111.0      WOODBURY   \n",
       "139633         20833.0         20833.0  11568.0   551111.0  OLD WESTBURY   \n",
       "\n",
       "       BusinessType              RaceEthnicity      Gender  \\\n",
       "34794   Corporation  Black or African American  Male Owned   \n",
       "139633  Corporation  Black or African American  Male Owned   \n",
       "\n",
       "                                       Lender     CD  \n",
       "34794                      City National Bank  NY-03  \n",
       "139633  Bank of America, National Association  NY-03  "
      ]
     },
     "execution_count": 68,
     "metadata": {},
     "output_type": "execute_result"
    }
   ],
   "source": [
    "Black_Lenders = df_JoinedFinal[df_JoinedFinal.RaceEthnicity == \"Black or African American\"]\n",
    "Black_Lenders.head(2)"
   ]
  },
  {
   "cell_type": "code",
   "execution_count": 69,
   "metadata": {},
   "outputs": [
    {
     "data": {
      "text/plain": [
       "Dime Community Bank                            70\n",
       "City National Bank                             63\n",
       "Accion East, Inc.                              36\n",
       "Grow America Fund, Incorporated                22\n",
       "TruFund Financial Services Inc                 18\n",
       "                                               ..\n",
       "Intuit Financing Inc.                           1\n",
       "American Community Bank                         1\n",
       "First Home Bank                                 1\n",
       "Lower East Side People's FCU                    1\n",
       "Truist Bank d/b/a Branch Banking & Trust Co     1\n",
       "Name: Lender, Length: 75, dtype: int64"
      ]
     },
     "execution_count": 69,
     "metadata": {},
     "output_type": "execute_result"
    }
   ],
   "source": [
    "Black_Lenders.Lender.value_counts(dropna=False)"
   ]
  },
  {
   "cell_type": "code",
   "execution_count": 70,
   "metadata": {},
   "outputs": [
    {
     "data": {
      "text/plain": [
       "68826.20637894738"
      ]
     },
     "execution_count": 70,
     "metadata": {},
     "output_type": "execute_result"
    }
   ],
   "source": [
    "Black_Lenders.Min_LoanAmount.mean()"
   ]
  },
  {
   "cell_type": "code",
   "execution_count": 71,
   "metadata": {},
   "outputs": [
    {
     "data": {
      "text/plain": [
       "128931.46953684211"
      ]
     },
     "execution_count": 71,
     "metadata": {},
     "output_type": "execute_result"
    }
   ],
   "source": [
    "Black_Lenders.Max_LoanAmount.mean()"
   ]
  },
  {
   "cell_type": "markdown",
   "metadata": {},
   "source": [
    "## Analyzing by gender"
   ]
  },
  {
   "cell_type": "code",
   "execution_count": 72,
   "metadata": {},
   "outputs": [
    {
     "data": {
      "text/plain": [
       "Unanswered      161749\n",
       "Male Owned       18505\n",
       "Female Owned      5375\n",
       "Name: Gender, dtype: int64"
      ]
     },
     "execution_count": 72,
     "metadata": {},
     "output_type": "execute_result"
    }
   ],
   "source": [
    "df_JoinedFinal['Gender'].value_counts(dropna=False)"
   ]
  },
  {
   "cell_type": "markdown",
   "metadata": {},
   "source": [
    "## Analyzing by congressional district "
   ]
  },
  {
   "cell_type": "code",
   "execution_count": 74,
   "metadata": {},
   "outputs": [
    {
     "data": {
      "text/plain": [
       "NY-12    43620\n",
       "NY-10    29174\n",
       "NY-03    17040\n",
       "NY-08    13154\n",
       "NY-06    12715\n",
       "NY-09    11738\n",
       "NY-07    10855\n",
       "NY-14    10701\n",
       "NY-16     9881\n",
       "NY-11     7767\n",
       "NY-13     6517\n",
       "NY-05     6384\n",
       "NY-15     6083\n",
       "Name: CD, dtype: int64"
      ]
     },
     "execution_count": 74,
     "metadata": {},
     "output_type": "execute_result"
    }
   ],
   "source": [
    "df_JoinedFinal['CD'].value_counts(dropna=False)"
   ]
  },
  {
   "cell_type": "code",
   "execution_count": null,
   "metadata": {},
   "outputs": [],
   "source": []
  },
  {
   "cell_type": "code",
   "execution_count": null,
   "metadata": {},
   "outputs": [],
   "source": []
  }
 ],
 "metadata": {
  "kernelspec": {
   "display_name": "Python 3",
   "language": "python",
   "name": "python3"
  },
  "language_info": {
   "codemirror_mode": {
    "name": "ipython",
    "version": 3
   },
   "file_extension": ".py",
   "mimetype": "text/x-python",
   "name": "python",
   "nbconvert_exporter": "python",
   "pygments_lexer": "ipython3",
   "version": "3.8.2"
  }
 },
 "nbformat": 4,
 "nbformat_minor": 4
}
